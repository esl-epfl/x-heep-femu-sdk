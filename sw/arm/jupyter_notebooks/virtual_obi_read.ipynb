{
 "cells": [
  {
   "cell_type": "code",
   "execution_count": null,
   "id": "63f1eaa7",
   "metadata": {},
   "outputs": [],
   "source": [
    "# Import the X-HEEP Python class\n",
    "from pynq import x_heep\n",
    "from x_heep_obi import *"
   ]
  },
  {
   "cell_type": "code",
   "execution_count": null,
   "id": "2d224b64",
   "metadata": {},
   "outputs": [],
   "source": [
    "# Load the X-HEEP bitstream\n",
    "x_heep = x_heep()"
   ]
  },
  {
   "cell_type": "code",
   "execution_count": null,
   "id": "d6af7d95",
   "metadata": {},
   "outputs": [],
   "source": [
    "# Compile the application\n",
    "x_heep.compile_app(\"virtual_obi_read\")"
   ]
  },
  {
   "cell_type": "code",
   "execution_count": null,
   "id": "75a905c1",
   "metadata": {},
   "outputs": [],
   "source": [
    "# Init the OBI memory\n",
    "obi = OBI(x_heep)"
   ]
  },
  {
   "cell_type": "code",
   "execution_count": null,
   "id": "00c60248",
   "metadata": {},
   "outputs": [],
   "source": [
    "# Reset the OBI memory\n",
    "obi.reset_obi_mem()"
   ]
  },
  {
   "cell_type": "code",
   "execution_count": null,
   "id": "35615647",
   "metadata": {},
   "outputs": [],
   "source": [
    "# Write to the OBI memory\n",
    "write_list = list()\n",
    "for i in range(1024):\n",
    "    write_list.append(i ** 2)\n",
    "obi.write_obi_mem(write_list)"
   ]
  },
  {
   "cell_type": "code",
   "execution_count": null,
   "id": "b4b82dd7",
   "metadata": {},
   "outputs": [],
   "source": [
    "# Run the application\n",
    "x_heep.run_app()"
   ]
  },
  {
   "cell_type": "code",
   "execution_count": null,
   "id": "d782574d",
   "metadata": {},
   "outputs": [],
   "source": [
    "# Verify the output\n",
    "expected_output = \"Read operation successful.\"\n",
    "\n",
    "if x_heep.uart_data[0].strip() == expected_output:\n",
    "    print(\"Test Passed!\")\n",
    "else:\n",
    "    print(\"Test Failed!\")"
   ]
  },
  {
   "cell_type": "code",
   "execution_count": null,
   "id": "0255eaa2",
   "metadata": {},
   "outputs": [],
   "source": [
    "# Release the allocated memory\n",
    "obi.release_mem()"
   ]
  },
  {
   "cell_type": "code",
   "execution_count": null,
   "id": "84f8d8c9",
   "metadata": {},
   "outputs": [],
   "source": [
    "# Delete OBI\n",
    "del obi"
   ]
  }
 ],
 "metadata": {
  "kernelspec": {
   "display_name": "Python 3 (ipykernel)",
   "language": "python",
   "name": "python3"
  },
  "language_info": {
   "codemirror_mode": {
    "name": "ipython",
    "version": 3
   },
   "file_extension": ".py",
   "mimetype": "text/x-python",
   "name": "python",
   "nbconvert_exporter": "python",
   "pygments_lexer": "ipython3",
   "version": "3.10.4"
  }
 },
 "nbformat": 4,
 "nbformat_minor": 5
}
