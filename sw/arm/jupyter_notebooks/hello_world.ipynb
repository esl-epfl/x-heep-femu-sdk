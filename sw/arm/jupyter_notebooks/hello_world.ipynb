{
 "cells": [
  {
   "cell_type": "code",
   "execution_count": null,
   "id": "63f1eaa7",
   "metadata": {},
   "outputs": [],
   "source": [
    "from pynq import x_heep             # Import the X-HEEP Python class\n",
    "x_heep = x_heep()                   # Load the X-HEEP bitstream\n",
    "x_heep.compile_app(\"hello_world\")   # Compile the application\n",
    "x_heep.run_app();                   # Run the application"
   ]
  },
  {
   "cell_type": "code",
   "execution_count": null,
   "id": "899d62a7",
   "metadata": {},
   "outputs": [],
   "source": [
    "# Verify the output\n",
    "expected_output = \"Hello World!\"\n",
    "if x_heep.uart_data[0].strip() == expected_output:\n",
    "    print(\"Test Passed!\")\n",
    "else:\n",
    "    print(\"Test Failed!\")"
   ]
  }
 ],
 "metadata": {
  "kernelspec": {
   "display_name": "Python 3 (ipykernel)",
   "language": "python",
   "name": "python3"
  },
  "language_info": {
   "codemirror_mode": {
    "name": "ipython",
    "version": 3
   },
   "file_extension": ".py",
   "mimetype": "text/x-python",
   "name": "python",
   "nbconvert_exporter": "python",
   "pygments_lexer": "ipython3",
   "version": "3.10.4"
  }
 },
 "nbformat": 4,
 "nbformat_minor": 5
}
