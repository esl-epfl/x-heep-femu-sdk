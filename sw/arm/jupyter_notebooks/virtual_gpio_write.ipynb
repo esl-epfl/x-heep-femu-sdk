{
 "cells": [
  {
   "cell_type": "code",
   "execution_count": null,
   "id": "63f1eaa7",
   "metadata": {},
   "outputs": [],
   "source": [
    "# Import the X-HEEP Python class\n",
    "from pynq import x_heep\n",
    "from x_heep_gpio import *"
   ]
  },
  {
   "cell_type": "code",
   "execution_count": null,
   "id": "2d224b64",
   "metadata": {},
   "outputs": [],
   "source": [
    "# Load the X-HEEP bitstream\n",
    "x_heep = x_heep()"
   ]
  },
  {
   "cell_type": "code",
   "execution_count": null,
   "id": "d6af7d95",
   "metadata": {},
   "outputs": [],
   "source": [
    "# Compile the application\n",
    "x_heep.compile_app(\"virtual_gpio_write\")"
   ]
  },
  {
   "cell_type": "code",
   "execution_count": null,
   "id": "fd8e74c7",
   "metadata": {},
   "outputs": [],
   "source": [
    "# Run the application\n",
    "x_heep.run_app()"
   ]
  },
  {
   "cell_type": "code",
   "execution_count": null,
   "id": "4fbcd989",
   "metadata": {},
   "outputs": [],
   "source": [
    "# Compare the results\n",
    "bit_array_read = \"\"\n",
    "bit_array_expected = \"101010101010101010101010101010\"\n",
    "\n",
    "for gpio_pin in range(30):\n",
    "    pin_read = gpio_read(gpio_pin)\n",
    "    bit_array_read += str(pin_read)\n",
    "print(bit_array_read)\n",
    "\n",
    "if bit_array_read == bit_array_expected:\n",
    "    print(\"Test Passed!\")\n",
    "else:\n",
    "    print(\"Test Failed!\")"
   ]
  }
 ],
 "metadata": {
  "kernelspec": {
   "display_name": "Python 3 (ipykernel)",
   "language": "python",
   "name": "python3"
  },
  "language_info": {
   "codemirror_mode": {
    "name": "ipython",
    "version": 3
   },
   "file_extension": ".py",
   "mimetype": "text/x-python",
   "name": "python",
   "nbconvert_exporter": "python",
   "pygments_lexer": "ipython3",
   "version": "3.10.4"
  }
 },
 "nbformat": 4,
 "nbformat_minor": 5
}
