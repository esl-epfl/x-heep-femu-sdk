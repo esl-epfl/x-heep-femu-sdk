{
 "cells": [
  {
   "cell_type": "code",
   "execution_count": null,
   "id": "130811ea",
   "metadata": {
    "scrolled": true
   },
   "outputs": [],
   "source": [
    "# Import the X-HEEP Python class\n",
    "from pynq import x_heep\n",
    "from x_heep_flash import *"
   ]
  },
  {
   "cell_type": "code",
   "execution_count": null,
   "id": "e11233ef",
   "metadata": {
    "scrolled": true
   },
   "outputs": [],
   "source": [
    "# Load the X-HEEP bitstream\n",
    "x_heep = x_heep()"
   ]
  },
  {
   "cell_type": "code",
   "execution_count": null,
   "id": "c3a0bfee",
   "metadata": {
    "scrolled": true
   },
   "outputs": [],
   "source": [
    "# Compile the application\n",
    "x_heep.compile_app(\"virtual_flash_read\")"
   ]
  },
  {
   "cell_type": "code",
   "execution_count": null,
   "id": "22a4bdca",
   "metadata": {
    "scrolled": true
   },
   "outputs": [],
   "source": [
    "# Init the Flash\n",
    "flash = Flash(x_heep)"
   ]
  },
  {
   "cell_type": "code",
   "execution_count": null,
   "id": "0dc5421c",
   "metadata": {},
   "outputs": [],
   "source": [
    "# Reset the Flash\n",
    "flash.reset_flash()"
   ]
  },
  {
   "cell_type": "code",
   "execution_count": null,
   "id": "430eed9e",
   "metadata": {},
   "outputs": [],
   "source": [
    "# Write the Flash\n",
    "flash.write_flash()"
   ]
  },
  {
   "cell_type": "code",
   "execution_count": null,
   "id": "2661773a",
   "metadata": {
    "scrolled": true
   },
   "outputs": [],
   "source": [
    "# Run the application\n",
    "x_heep.run_app()"
   ]
  },
  {
   "cell_type": "code",
   "execution_count": null,
   "id": "8026b373",
   "metadata": {},
   "outputs": [],
   "source": [
    "# Release the allocated memory\n",
    "flash.release_mem()"
   ]
  },
  {
   "cell_type": "code",
   "execution_count": null,
   "id": "827f1641",
   "metadata": {
    "scrolled": true
   },
   "outputs": [],
   "source": [
    "# Delete flash\n",
    "del flash"
   ]
  },
  {
   "cell_type": "code",
   "execution_count": null,
   "id": "b091e74e",
   "metadata": {},
   "outputs": [],
   "source": [
    "# Verify the outputs\n",
    "file_expected = open(\"/home/xilinx/x-heep-femu-sdk/sw/riscv/build/flash_in.bin\", mode=\"rb\")\n",
    "expected_byte = file_expected.read()\n",
    "stdout_byte = x_heep.uart_data\n",
    "\n",
    "allEqual = True\n",
    "for i in range(int(len(expected_byte)/4)):\n",
    "    written = int((expected_byte[i*4] << 24) | (expected_byte[i*4+1] << 16) | (expected_byte[i*4+2] << 8) | expected_byte[i*4+3])\n",
    "    read = int(stdout_byte[i].strip().split(\" \")[1], 16)\n",
    "    if written != read:\n",
    "        allEqual = False\n",
    "        break\n",
    "\n",
    "if allEqual:\n",
    "    print(\"Test Passed!\")\n",
    "else:\n",
    "    print(\"Test Failed!\")"
   ]
  }
 ],
 "metadata": {
  "kernelspec": {
   "display_name": "Python 3 (ipykernel)",
   "language": "python",
   "name": "python3"
  },
  "language_info": {
   "codemirror_mode": {
    "name": "ipython",
    "version": 3
   },
   "file_extension": ".py",
   "mimetype": "text/x-python",
   "name": "python",
   "nbconvert_exporter": "python",
   "pygments_lexer": "ipython3",
   "version": "3.10.4"
  }
 },
 "nbformat": 4,
 "nbformat_minor": 5
}
