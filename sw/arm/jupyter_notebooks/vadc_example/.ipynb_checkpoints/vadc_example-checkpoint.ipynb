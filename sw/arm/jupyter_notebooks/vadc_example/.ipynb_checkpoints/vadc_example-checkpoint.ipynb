{
 "cells": [
  {
   "cell_type": "markdown",
   "id": "9a4c49a0",
   "metadata": {},
   "source": [
    "# Virtual ADC example\n",
    "---\n",
    "\n",
    "Welcome to the Virtual ADC example of X-HEEP's FEMU! \n",
    "This notebook will demonstrate how to: \n",
    "1. Take a signal from a `.txt` file and convert it to a `Timeseries` variable.\n",
    "2. Load a pair of signals from a `Timeseries` variable and feed it to the virtual ADC. \n",
    "3. Interact with the X-HEEP's C code from this notebook through a `definitions.h` file.  \n",
    "4. Launch an application on X-HEEP that will receive the virtual ADC's input and output the result of applying a filter through the UART.\n",
    "5. Plot the results obtained from X-HEEP's execution. \n",
    "6. Obtain performance measurements from the execution and plot them to spot bottlenecks and compare them to application requirements.\n",
    "\n",
    "---\n"
   ]
  },
  {
   "cell_type": "markdown",
   "id": "2fd59f4a",
   "metadata": {},
   "source": [
    "## Initialization\n",
    "\n",
    "Firstly some key paths are set and added to the system path. "
   ]
  },
  {
   "cell_type": "code",
   "execution_count": 1,
   "id": "130811ea",
   "metadata": {
    "scrolled": true,
    "vscode": {
     "languageId": "python"
    }
   },
   "outputs": [],
   "source": [
    "%reload_ext autoreload\n",
    "%autoreload 2\n",
    "# Import the X-HEEP Python class\n",
    "from pynq import x_heep\n",
    "\n",
    "# Allow the import of all modules in this directory\n",
    "import sys\n",
    "BASELINE_PATH   = '/home/xilinx/x-heep-femu-sdk/sw/'                        # Path to the software side of the FEMU\n",
    "SDK_PATH        = BASELINE_PATH + \"arm/sdk/\"                                # PAth to the SDK  \n",
    "APP_PATH        = BASELINE_PATH + 'riscv/apps/vadc_example/'                # Path to the .c file of the ADC-emu application\n",
    "NB_PATH         = BASELINE_PATH + 'arm/jupyter_notebooks/vadc_example/'     # Path to this notebook         \n",
    "ADC_EMU_PATH    = SDK_PATH      + 'adc-emu/src'                             # Path to the API of the ADC emulator\n",
    "\n",
    "# Add some key paths to the system path\n",
    "sys.path.append(SDK_PATH)\n",
    "sys.path.append(ADC_EMU_PATH )\n",
    "\n",
    "# Fixed information on where input and output data should be stored, and in which format\n",
    "PATH_IN         = 'in/'\n",
    "PATH_OUT        = 'out/'\n",
    "EXTENSION_IN    = '.txt'\n",
    "EXTENSION_OUT   = '.pkl'"
   ]
  },
  {
   "cell_type": "markdown",
   "id": "21fef555",
   "metadata": {},
   "source": [
    "Then the bitstream of X-HEEP + the necessary peripherals to interact with the FEMU (`x_heep.bit`) is loaded. It should be located in `~/x-heep-femu-sdk/hw/` (w.r.t. this notebook: `../../../../hw/`). "
   ]
  },
  {
   "cell_type": "code",
   "execution_count": 2,
   "id": "669e4197",
   "metadata": {
    "vscode": {
     "languageId": "python"
    }
   },
   "outputs": [
    {
     "data": {
      "application/javascript": [
       "\n",
       "try {\n",
       "require(['notebook/js/codecell'], function(codecell) {\n",
       "  codecell.CodeCell.options_default.highlight_modes[\n",
       "      'magic_text/x-csrc'] = {'reg':[/^%%microblaze/]};\n",
       "  Jupyter.notebook.events.one('kernel_ready.Kernel', function(){\n",
       "      Jupyter.notebook.get_cells().map(function(cell){\n",
       "          if (cell.cell_type == 'code'){ cell.auto_highlight(); } }) ;\n",
       "  });\n",
       "});\n",
       "} catch (e) {};\n"
      ]
     },
     "metadata": {},
     "output_type": "display_data"
    },
    {
     "data": {
      "application/javascript": [
       "\n",
       "try {\n",
       "require(['notebook/js/codecell'], function(codecell) {\n",
       "  codecell.CodeCell.options_default.highlight_modes[\n",
       "      'magic_text/x-csrc'] = {'reg':[/^%%pybind11/]};\n",
       "  Jupyter.notebook.events.one('kernel_ready.Kernel', function(){\n",
       "      Jupyter.notebook.get_cells().map(function(cell){\n",
       "          if (cell.cell_type == 'code'){ cell.auto_highlight(); } }) ;\n",
       "  });\n",
       "});\n",
       "} catch (e) {};\n"
      ]
     },
     "metadata": {},
     "output_type": "display_data"
    }
   ],
   "source": [
    "xh = x_heep()"
   ]
  },
  {
   "cell_type": "markdown",
   "id": "3eded12f",
   "metadata": {},
   "source": [
    "## Creating an emulated ADC and feeding signals to it\n",
    "\n",
    "Signals can be found in different formats and flavours. In order to standardize the format in which we feed information to the virtual-ADC (vADC) we will transform the input signal to a `Timeseries` variable. This `Timeseries` can be exported to a `.bin` file for the vADC. Additionally, one or more `Timeseries` can be fed into the `ADC-emulator` (ADC-emu), which will take the ADC parameters and pre-process the input signal to emulate a signal acquired by such an ADC. The output of the ADC-emu can then be converted to a `.bin` file to be read by the vADC. "
   ]
  },
  {
   "cell_type": "code",
   "execution_count": 3,
   "id": "63b68f50",
   "metadata": {
    "vscode": {
     "languageId": "python"
    }
   },
   "outputs": [],
   "source": [
    "#!/usr/bin/env python3\n",
    "%reload_ext autoreload\n",
    "%autoreload 2\n",
    "\n",
    "import numpy as np\n",
    "import matplotlib.pyplot as plt\n",
    "from timeseries import *\n",
    "from processes import *\n",
    "from adc_emu import *\n",
    "\n",
    "processes = []\n",
    "# Plot of each channel and the sum of them all. \n",
    "# This will be used to visualize the input signal after the ADC-emu and the input to the vADC.\n",
    "def add_to_plot(series, row, col, channel_count, alpha=1):\n",
    "    ax = plt.subplot2grid((channel_count, 2), (row, col), rowspan = 1 if col == 0 else channel_count )\n",
    "    ax.set_title(series.name)\n",
    "    ax.scatter(series.time, series.data, alpha = alpha, s=2  )\n",
    "    processes.append(series)\n"
   ]
  },
  {
   "cell_type": "markdown",
   "id": "d3c54451",
   "metadata": {},
   "source": [
    "### Read the input file \n",
    "\n",
    "We will use a multimodal dataset containing data from different biosignals. This file is a `.txt` from which we will extract some channels and feed them a multi-channel ADC-emu to obtain a pre-processed signal that can be fed to the vADC. \n",
    "\n",
    "The input file has the following format:\n",
    "```\n",
    "Time,FP1,FP2,C3,C4,O1,O2,SPR1,SPR2,ECG1,ECG2\n",
    "0.005,86.512,-61.877,73.345,-196.646,120.742,-10.405,-121.088,-6.189,1.378,-24.799\n",
    "0.010,54.116,-194.703,32.428,-161.863,129.175,65.907,-121.581,-27.004,22.375,-29.840\n",
    "```\n",
    "\n",
    "\n",
    "> Data obtained from [Aminosharieh et al., \"Drivers' Mental Engagement Analysis Using Multi-Sensor Fusion Approaches Based on Deep Convolutional Neural Networks\", 2023](https://www.mdpi.com/1424-8220/23/17/7346)."
   ]
  },
  {
   "cell_type": "code",
   "execution_count": 4,
   "id": "3267f23d",
   "metadata": {
    "vscode": {
     "languageId": "python"
    }
   },
   "outputs": [],
   "source": [
    "# Read the file, strip it from special characters and split it into elements\n",
    "with open(NB_PATH + PATH_IN + 'multimodal/S1_ADAS1.txt') as f: y = f.readlines()\n",
    "titles = y[0].strip().split(',')                                        # The title of each channel\n",
    "data = np.asarray([[float(f) for f in l.split(',')] for l in y[1:]])    # The cleaned values (ignoring the titles)\n",
    "\n",
    "# Get the values for each channel\n",
    "channels = []\n",
    "for i in range(len(titles)): channels.append([row[i] for row in data])"
   ]
  },
  {
   "cell_type": "markdown",
   "id": "af63f08c",
   "metadata": {},
   "source": [
    "### Clean the signal to be converted to a Timeseries"
   ]
  },
  {
   "cell_type": "code",
   "execution_count": 5,
   "id": "361a532f",
   "metadata": {
    "vscode": {
     "languageId": "python"
    }
   },
   "outputs": [],
   "source": [
    "time = channels[0]          # Extract the timestamps\n",
    "channels = channels[1:]     # Remove the \"Time\" channel to keep only the channel values\n",
    "titles = titles[1:]         # Remove the \"Time\" title to keep only the title of the channels\n",
    "T_s = time[1] - time[0]     # Compute the \n",
    "f_Hz = 1/T_s\n",
    "\n",
    "# Crop the signal to a certain lenght\n",
    "length_s = 15\n",
    "sample_max = int(length_s/T_s)\n",
    "for c in range(len(channels)): channels[c] = channels[c][:sample_max]\n"
   ]
  },
  {
   "cell_type": "code",
   "execution_count": 6,
   "id": "6f469bd2",
   "metadata": {
    "vscode": {
     "languageId": "python"
    }
   },
   "outputs": [],
   "source": [
    "channels_to_plot = ['FP1', 'ECG1']\n",
    "'''````````````````````````````````````\n",
    "GENERATE THE ADCs FOR EACH CHANNEL\n",
    "````````````````````````````````````'''\n",
    "\n",
    "ADC_RESOLUTION_BITS         = 6\n",
    "ADC_TCDM_CHANNEL_ID_BITS    = int(np.ceil(ADC_RESOLUTION_BITS/8)*8 - ADC_RESOLUTION_BITS)\n",
    "ADC_WORD_SIZE_BYTES         = int(np.ceil((ADC_RESOLUTION_BITS + ADC_TCDM_CHANNEL_ID_BITS )/8))\n",
    "ADC_WORD_SIZE_BITS          = ADC_WORD_SIZE_BYTES * 8\n",
    "ADC_CH_DATA_MASK            = (1 << ADC_RESOLUTION_BITS) -1\n",
    "\n",
    "FREQ_X_HEEP_REALTIME_HZ         = 20*1e6                        # The frequency at wich the PL will actually run. Changing this frequency wil alter the real latency of the experiments. Cannot exceed 20 MHz (limit of the pynq-z2 board).\n",
    "FREQ_X_HEEP_EMULATED_HZ         = 1*1e6                         # The emulated frequency of X-HEEP. This frequency is used to compute the downscale reuqired to generate the vADC sampling frequency and to compute the reported latency and energy consumption. X-HEEP will believe it is running at this frequency, while it's actually running at FREQ_X_HEEP_REALTIME_HZ. It is not limited, although silicon results on HEEPocrates have shown operation from 32 kHz to 450 MHz in HVT technology. \n",
    "FREQ_VADC_DESIRED_EMULATED_HZ   = 700*1e3                       # The desired emulated frequency of acquisition of samples from the vADC. An approximation to this value will be reached by downscaling the FREQ_X_HEEP_EMULATED_HZ by calling set_vadc_clk() in the C code. Note that not any frequency is possible (therefore, this is only the desired frequency). The actual sampling frequency will be computed and stored in FREQ_VADC_EMULATED_HZ. If this frequency is larger that the input data actual frequency, it will be interpolated. \n",
    "FREQ_VADC_EMULATED_HZ           = FREQ_VADC_DESIRED_EMULATED_HZ # @ToDo take the code from vadc.c and implement it here. \n",
    "X_HEEP_SAMPLING_BUFFER_SAMPLES  = 32  "
   ]
  },
  {
   "cell_type": "code",
   "execution_count": 7,
   "id": "c87289af",
   "metadata": {
    "vscode": {
     "languageId": "python"
    }
   },
   "outputs": [
    {
     "name": "stdout",
     "output_type": "stream",
     "text": [
      "Set 5998 words as input\n"
     ]
    },
    {
     "data": {
      "image/png": "[encoded data removed]",
      "text/plain": [
       "<Figure size 1440x360 with 3 Axes>"
      ]
     },
     "metadata": {
      "needs_background": "light"
     },
     "output_type": "display_data"
    }
   ],
   "source": [
    "fig = plt.figure(figsize=(20,5))\n",
    "\n",
    "indexes = [titles.index(element) for element in channels_to_plot]\n",
    "channel_count = len(indexes)\n",
    "\n",
    "adc_channels = []\n",
    "for ch_idx, ch_count in zip(indexes, range(len(indexes))):\n",
    "    adc_channels.append( ADC(   name        = f\"ADC for {titles[ch_idx]}\",\n",
    "                                units       = \"uV\",\n",
    "                                f_sample_Hz = f_Hz,\n",
    "                                ampl_bits   = ADC_RESOLUTION_BITS,\n",
    "                                dynRange    = [-1500, 1500],\n",
    "                                series      =  Timeseries(  f\"{titles[ch_idx]}\",\n",
    "                                                            channels[ch_idx],\n",
    "                                                            length_s = length_s\n",
    "                                                        )\n",
    "                            )\n",
    "                        )\n",
    "    add_to_plot(adc_channels[ch_count].conversion, channel_count - ch_count -1, 0, channel_count)\n",
    "\n",
    "'''````````````````````````````````````\n",
    "GENERATE THE MULTICHANNEL ADC\n",
    "````````````````````````````````````'''\n",
    "mcadc = mcADC(\"MultiChannel ADC\", adc_channels[:channel_count] )\n",
    "mcadc.TDM()\n",
    "add_to_plot(mcadc.conversion, 0, 1, channel_count )\n",
    "\n",
    "# Export the binary file to the application folder\n",
    "from copy import deepcopy as cp\n",
    "ADC_BIN_NAME = 'adc_in'\n",
    "din = cp(mcadc.conversion)\n",
    "din.export_bin(path=APP_PATH, name=ADC_BIN_NAME, bytes = ADC_WORD_SIZE_BYTES, bigendian=False)\n",
    "VADC_ACQUISITION_SAMPLES = len(din.data)\n",
    "print(f\"Set {VADC_ACQUISITION_SAMPLES} words as input\")\n",
    "\n",
    "'''````````````````````````````````````\n",
    "GENERAL PLOT SETTINGS\n",
    "````````````````````````````````````'''\n",
    "plt.title(\"Input to X-HEEP\")\n",
    "plt.rcParams[\"font.family\"] = \"serif\"\n",
    "plt.rcParams[\"font.size\"] = 14\n",
    "plt.subplots_adjust(hspace=2)\n",
    "plt.grid(axis='y', which='both')\n",
    "plt.tight_layout()\n",
    "plt.show()"
   ]
  },
  {
   "cell_type": "markdown",
   "id": "bb0e7050",
   "metadata": {},
   "source": [
    "## Set the different operation parameters"
   ]
  },
  {
   "cell_type": "markdown",
   "id": "46fdb45e",
   "metadata": {},
   "source": [
    "## Share information with the C code\n",
    "\n",
    "A `definitions.h` file is created to share data between this notebook and the C code. You can add any kind of `#define` (including macros) to the code. \n",
    "In this case it is used to share strings that will be used by the software to parse a result and print it so we can extract it from the UART to plot it.  \n",
    "We also share vADC sampling information to be used in configuring the acquisition."
   ]
  },
  {
   "cell_type": "code",
   "execution_count": 8,
   "id": "ce6a5ab3",
   "metadata": {
    "vscode": {
     "languageId": "python"
    }
   },
   "outputs": [],
   "source": [
    "# Enable the printfs inside X-HEEP application. \n",
    "# This is not the same as VERBOSE, as \n",
    "#   a) it actually reflects in C-code and therefore in performance.\n",
    "#   b) Will not allow to read the output to plot in this notebook\n",
    "ENABLE_PRINTF       = 1\n",
    "\n",
    "# Define some standards to parse the X-HEEP output\n",
    "OUTPUT_START_SEQ    = \"# \"\n",
    "OUTPUT_DIVIDER      = \"|\"\n",
    "OUTPUT_END_SEQ      = \"#---\"   \n",
    "\n",
    "# Write the definitions header file to share information with the C code\n",
    "defs = APP_PATH + 'definitions.h'\n",
    "xh.open_definitions     (defs, \"DEFINITIONS\")\n",
    "xh.add_definition       (defs, \"VADC_ACQUISITION_SAMPLES\",          VADC_ACQUISITION_SAMPLES )\n",
    "xh.add_definition       (defs, \"X_HEEP_SAMPLING_BUFFER_SAMPLES\",    X_HEEP_SAMPLING_BUFFER_SAMPLES )\n",
    "xh.add_definition       (defs, \"WORD_SIZE_BYTES\",                   ADC_WORD_SIZE_BYTES )\n",
    "xh.add_definition       (defs, \"WORD_SIZE_BITS\",                    ADC_WORD_SIZE_BITS )\n",
    "xh.add_definition       (defs, \"ADC_CH_DATA_MASK\",                  ADC_CH_DATA_MASK )\n",
    "xh.add_definition       (defs, \"VADC_SAMPLING_FREQ_HZ\",             int(FREQ_VADC_EMULATED_HZ) )\n",
    "xh.add_definition       (defs, \"ENABLE_PRINTF\",                     ENABLE_PRINTF)\n",
    "xh.add_definition       (defs, \"OUTPUT_START_SEQ\",                  OUTPUT_START_SEQ)\n",
    "xh.add_definition       (defs, \"OUTPUT_DIVIDER\",                    OUTPUT_DIVIDER)\n",
    "xh.add_definition       (defs, \"OUTPUT_END_SEQ\",                    OUTPUT_END_SEQ)\n",
    "xh.close_definitions    (defs)"
   ]
  },
  {
   "cell_type": "markdown",
   "id": "b693f119",
   "metadata": {},
   "source": [
    "## Compile the code and run the application\n",
    "\n",
    "The C code written for X-HEEP in `~/x-heep-femu-sdk/sw/riscv/apps/adc-emu/adc-emu.c` will be compiled to generate the `code.*` files in `~/x-heep-femu-sdk/sw/build/`. This will be later loaded into X-HEEP for it to execute. \n",
    "\n",
    "After compilation, the `virtual ADC` is initialized with the signal that will be fed.\n",
    "\n",
    "Before running the program performance counters are reset and started. These will capture the execution of X-HEEP and will be used to asses the latency of the execution and average power of each block of X-HEEP. \n",
    "\n",
    "During the exeuction the UART output will be printed live. \n",
    "\n",
    "* You can change the variable `SKIP_COMPILE`  to 1 to avoid compiling each time.\n",
    "* You can change the variable `VERBOSE`       to 0 to supress the live printing of the UART.\n",
    "\n",
    "> The execution of this cells takes around 9 seconds (until compilation) + around 6 seconds for the program to start."
   ]
  },
  {
   "cell_type": "code",
   "execution_count": 9,
   "id": "37d96249",
   "metadata": {
    "vscode": {
     "languageId": "python"
    }
   },
   "outputs": [
    {
     "name": "stdout",
     "output_type": "stream",
     "text": [
      "✅ Compile SUCCESS\n",
      "✅ Return SUCCESS\n",
      " No screen session found.\n",
      "\n"
     ]
    }
   ],
   "source": [
    "# Skip compiling if all you want to do is run the application\n",
    "# Note that the compilation is affected by the parameters written to the definitions.h file\n",
    "SKIP_COMPILE = 0\n",
    "# Whether to see the X-HEEP UART output live.\n",
    "VERBOSE      = 1\n",
    "\n",
    "# Compile the application\n",
    "if SKIP_COMPILE: print(\"⏩ Skipped compilation\") \n",
    "else: xh.compile_app(\"vadc_example\")\n",
    "\n",
    "data_file_name = APP_PATH + ADC_BIN_NAME + \".bin\"\n",
    "\n",
    "ddr_thread, ddr_sf = xh.virtual_adc_thread_start(data_file_name)\n",
    "\n",
    "perf_cnt = xh.init_perf_cnt()           # Init the performance counters\n",
    "xh.reset_perf_cnt(perf_cnt)             # Reset the performance counters\n",
    "xh.start_perf_cnt_manual(perf_cnt)      # Start the performance counters\n",
    "\n",
    "out, _ = xh.run_app(verbose = VERBOSE)  # Run the application (disregarding the error output)\n",
    "\n",
    "xh.stop_perf_cnt(perf_cnt)              # Stop the performance counters\n",
    "xh.thread_stop(ddr_thread, ddr_sf)      # Stop the ddr circular buffer controller\n",
    "    \n"
   ]
  },
  {
   "cell_type": "markdown",
   "id": "e5984a04",
   "metadata": {},
   "source": [
    "### Parse the UART output\n",
    "\n",
    "Until now most steps were significantly _\"application-agnostic\"_. The parsing of the output will strongly depend on what you are trying to extract from X-HEEP."
   ]
  },
  {
   "cell_type": "code",
   "execution_count": 10,
   "id": "e59f30c3",
   "metadata": {
    "vscode": {
     "languageId": "python"
    }
   },
   "outputs": [
    {
     "name": "stdout",
     "output_type": "stream",
     "text": [
      "Output included 0 sequences\n"
     ]
    }
   ],
   "source": [
    "# Extract the UART output from X-HEEP\n",
    "app_out = xh.uart_data\n",
    "\n",
    "# Find positions of strings starting with \"#\"\n",
    "starts = [i for i, s in enumerate(app_out) if s.startswith(OUTPUT_START_SEQ)]\n",
    "# Find positions of strings starting with \"#\"\n",
    "ends = [i for i, s in enumerate(app_out) if s.startswith(OUTPUT_END_SEQ)]\n",
    "\n",
    "# Sanity check to make sure that all output lists are closed\n",
    "if len(starts) != len(ends): sys.exit(\"❌ Invalid output\")\n",
    "\n",
    "# Will divide the outputs in a list of dictionaries containing headers and data\n",
    "outs = []\n",
    "for seq in range(len(starts)):\n",
    "    s = starts[seq]\n",
    "    e = ends[seq]\n",
    "    # Strip the headers of the format markers\n",
    "    headers = app_out[s].split(OUTPUT_DIVIDER)\n",
    "    headers = [ h.strip().replace(OUTPUT_START_SEQ,'') for h in headers ]\n",
    "    # Strip the data of the format markers and covert it into a numpy array of integers\n",
    "    data  = [line.split(OUTPUT_DIVIDER) for line in app_out[s+1:e]]\n",
    "    data = np.asarray([ [int(i.strip()) for i in d] for d in data ]).T\n",
    "    # Add the result to the list of dictionaries\n",
    "    outs.append( {'headers':headers, 'data':data } )\n",
    "\n",
    "# Convert all outputs to timeseries\n",
    "# Each timeseries will be part of a sequence: a group of timeseries of the same length (were printed as different columns of a same process)\n",
    "# All timeseries of a same sequence share timescale (that could be none)\n",
    "raw_series = []\n",
    "for seq in outs:\n",
    "    seqs = []\n",
    "    cols_i = 0 \n",
    "    cols_f = len(seq['headers'])\n",
    "    time = []\n",
    "    # If some first column of a sequence is a timestamp array, use it as time of all sequences\n",
    "    if \"time\" in seq['headers'][0].lower():\n",
    "        time = seq['data'][0]\n",
    "        cols_i = 1\n",
    "    # For the rest of the sequences just use the data as data\n",
    "    for c in range(cols_i, cols_f):\n",
    "        s = Timeseries( seq['headers'][c] )\n",
    "        s.data = seq['data'][c]\n",
    "        s.time = time\n",
    "        seqs.append(s)\n",
    "    raw_series.append(seqs)\n",
    "    \n",
    "# Access the information as `raw_series[0][1].name` (the name of the second column of the first sequence) \n",
    "print(\"Output included\", len(raw_series), \"sequences\")\n",
    "for s in range(len(raw_series)):\n",
    "    print(f\">>> Sequence {s} has headers: {[ h.name for h in raw_series[s] ]}\")"
   ]
  },
  {
   "cell_type": "markdown",
   "id": "35374e96",
   "metadata": {},
   "source": [
    "## Plot the input and output\n",
    "\n",
    "The obtained output will be plotted along with the input data `din`. "
   ]
  },
  {
   "cell_type": "code",
   "execution_count": 11,
   "id": "a08fa0cc",
   "metadata": {
    "vscode": {
     "languageId": "python"
    }
   },
   "outputs": [
    {
     "ename": "IndexError",
     "evalue": "list index out of range",
     "output_type": "error",
     "traceback": [
      "\u001b[0;31m---------------------------------------------------------------------------\u001b[0m",
      "\u001b[0;31mIndexError\u001b[0m                                Traceback (most recent call last)",
      "Input \u001b[0;32mIn [11]\u001b[0m, in \u001b[0;36m<cell line: 12>\u001b[0;34m()\u001b[0m\n\u001b[1;32m     10\u001b[0m data_a \u001b[38;5;241m=\u001b[39m []\n\u001b[1;32m     11\u001b[0m data_b \u001b[38;5;241m=\u001b[39m []\n\u001b[0;32m---> 12\u001b[0m \u001b[38;5;28;01mfor\u001b[39;00m d \u001b[38;5;129;01min\u001b[39;00m \u001b[43mseries\u001b[49m\u001b[43m[\u001b[49m\u001b[38;5;241;43m0\u001b[39;49m\u001b[43m]\u001b[49m[\u001b[38;5;241m0\u001b[39m]\u001b[38;5;241m.\u001b[39mdata:\n\u001b[1;32m     13\u001b[0m     data_a\u001b[38;5;241m.\u001b[39mappend(d \u001b[38;5;241m&\u001b[39m \u001b[38;5;241m0x00003FFF\u001b[39m)\n\u001b[1;32m     14\u001b[0m     data_b\u001b[38;5;241m.\u001b[39mappend((d \u001b[38;5;241m&\u001b[39m \u001b[38;5;241m0x3FFF0000\u001b[39m) \u001b[38;5;241m>>\u001b[39m \u001b[38;5;241m16\u001b[39m)\n",
      "\u001b[0;31mIndexError\u001b[0m: list index out of range"
     ]
    }
   ],
   "source": [
    "import matplotlib.pyplot as plt\n",
    "\n",
    "# make a deep copy to ensure that changes to the list will not affect the one obtained from the output\n",
    "import copy \n",
    "series = copy.deepcopy(raw_series)\n",
    "\n",
    "step = max(din.time)/int(VADC_ACQUISITION_SAMPLES/X_HEEP_SAMPLING_BUFFER_SAMPLES)\n",
    "time = list(np.arange(step, max(din.time) + step, step))\n",
    "\n",
    "data_a = []\n",
    "data_b = []\n",
    "for d in series[0][0].data:\n",
    "    data_a.append(d & 0x00003FFF)\n",
    "    data_b.append((d & 0x3FFF0000) >> 16)\n",
    "\n",
    "\n",
    "series = []\n",
    "series.append(Timeseries(\"Output A\", data = data_a, time = time))\n",
    "series.append(mcadc.channels[0].conversion)\n",
    "series.append(Timeseries(\"Output B\", data = data_b, time = time))\n",
    "series.append(mcadc.channels[1].conversion)\n",
    "\n",
    "fig = plt.figure(figsize=(10,8))\n",
    "\n",
    "ax = plt.subplot(2,1,1)\n",
    "ax.plot(series[0].time, series[0].data)\n",
    "ax.plot(series[1].time, series[1].data, alpha=0.3)\n",
    "plt.legend([ s.name for s in series[:2] ], loc='lower left')\n",
    "\n",
    "ax = plt.subplot(2,1,2)\n",
    "ax.plot(series[2].time, series[2].data)\n",
    "ax.plot(series[3].time, series[3].data, alpha=0.3)\n",
    "plt.legend([ s.name for s in series[2:] ], loc='lower left')\n",
    "\n",
    "plt.title(\"Output from X-HEEP\")\n",
    "plt.rcParams[\"font.family\"] = \"serif\"\n",
    "plt.rcParams[\"font.size\"] = 14\n"
   ]
  },
  {
   "cell_type": "markdown",
   "id": "edc5641e",
   "metadata": {},
   "source": [
    "## Performance and Energy\n",
    "\n",
    "During the execution of the application performance measurements were generated. In this section we will read them to generate latency and energy estimations. \n",
    "\n",
    "The report generated is stored in `~/x-heep-femu-sdk/sw/riscv/build/energy_estim.csv`.\n",
    "\n",
    "Latency, power and energy results will be computed and can be compared to some defined budgets. \n",
    "\n",
    "You can prune your design by removing modules to estimate the power consumption of X-HEEP without these blocks. "
   ]
  },
  {
   "cell_type": "code",
   "execution_count": null,
   "id": "b1683f19",
   "metadata": {
    "vscode": {
     "languageId": "python"
    }
   },
   "outputs": [],
   "source": [
    "from copy import deepcopy as cp\n",
    "from report import *\n",
    "\n",
    "# Define some budgets that we should not cross\n",
    "POWER_BUDGET_W      = 300e-6\n",
    "LATENCY_BUDGET_S    = 1\n",
    "\n",
    "xh.read_perf_cnt(perf_cnt);         # Read the performance counters\n",
    "xh.estimate_performance(verbose=False);     # Estimate the performance \n",
    "xh.estimate_energy(\"HVT\", verbose=False);   # Estimate the energy using the HVT model\n",
    "\n",
    "print(\"---------------------\")\n",
    "print(\"  Full System  \")\n",
    "rep_summary, rep_latency, rep_energy  = report() # Get the report\n",
    "\n",
    "print(\"---------------------\")\n",
    "print(\"  System Pruning  \")\n",
    "\n",
    "\n",
    "if 0: # In case you want to print the dictionaries containing the breakdown\n",
    "    import pprint\n",
    "    pprint.pprint(rep_energy)\n",
    "\n",
    "# Remove modules that will not be used in the design. \n",
    "# You can check the names in sdk/sw/riscv/build/energy_estim.csv\n",
    "pruned_energy = cp(rep_energy)\n",
    "pruned_energy = remove_module(pruned_energy, \"debug ao\" )\n",
    "pruned_energy = remove_module(pruned_energy, \"uart ao\" )\n",
    "pruned_energy = remove_module(pruned_energy, \"spi ao\" )\n",
    "pruned_energy = remove_module(pruned_energy, \"spi flash ao\" )\n",
    "pruned_energy = remove_module(pruned_energy, \"gpio\" )\n",
    "pruned_energy = remove_module(pruned_energy, \"i2c\" )\n",
    "pruned_energy = remove_module(pruned_energy, \"timer\" )\n",
    "\n",
    "rep_summary['Energy_J'] = pruned_energy['Total']\n",
    "rep_summary['Power_W']  = rep_summary['Energy_J']/rep_summary['Latency_s']\n",
    "\n",
    "print(f\"Latency:\\t{rep_summary['Latency_s']*1e3:0.2f} ms\")\n",
    "print(f\"Energy: \\t{rep_summary['Energy_J']*1e6:0.2f} µJ\")\n",
    "print(f\"Avg Pwr:\\t{rep_summary['Power_W']*1e6:0.2f} µW\")\n",
    "\n",
    "# Check that some contraints are satisfied\n",
    "if rep_summary['Latency_s'] < LATENCY_BUDGET_S: print(\"✅ Latency SUCCESS\") \n",
    "else: print(\"❌ Latency FAIL\")\n",
    "if rep_summary['Power_W']   < POWER_BUDGET_W:   print(\"✅ Power SUCCESS\")   \n",
    "else: print(\"❌ Power FAIL\")\n",
    "\n",
    "# @ToDo: Change to a bar graph (where the objectives can also be plotted)\n",
    "# Plot a breakdown of the energy consumption\n",
    "plot_energy( pruned_energy, level=1 )"
   ]
  }
 ],
 "metadata": {
  "kernelspec": {
   "display_name": "Python 3 (ipykernel)",
   "language": "python",
   "name": "python3"
  },
  "language_info": {
   "codemirror_mode": {
    "name": "ipython",
    "version": 3
   },
   "file_extension": ".py",
   "mimetype": "text/x-python",
   "name": "python",
   "nbconvert_exporter": "python",
   "pygments_lexer": "ipython3",
   "version": "3.10.4"
  }
 },
 "nbformat": 4,
 "nbformat_minor": 5
}
