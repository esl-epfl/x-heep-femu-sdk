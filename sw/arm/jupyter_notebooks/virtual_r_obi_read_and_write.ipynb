{
 "cells": [
  {
   "cell_type": "code",
   "execution_count": null,
   "id": "63f1eaa7",
   "metadata": {},
   "outputs": [],
   "source": [
    "# Import the X-HEEP Python class\n",
    "from pynq import x_heep\n",
    "from x_heep_obi import *"
   ]
  },
  {
   "cell_type": "code",
   "execution_count": null,
   "id": "2d224b64",
   "metadata": {},
   "outputs": [],
   "source": [
    "# Load the X-HEEP bitstream\n",
    "x_heep = x_heep()"
   ]
  },
  {
   "cell_type": "code",
   "execution_count": null,
   "id": "d6af7d95",
   "metadata": {},
   "outputs": [],
   "source": [
    "# Choose the X-HEEP memory bank\n",
    "# First bank  = 0\n",
    "# Second bank = 1\n",
    "# Third bank  = 2\n",
    "# Fourth bank = 3\n",
    "robi = rOBI(x_heep, 2)"
   ]
  },
  {
   "cell_type": "code",
   "execution_count": null,
   "id": "75a905c1",
   "metadata": {},
   "outputs": [],
   "source": [
    "# Write the memory bank\n",
    "for a,b in enumerate(range(0,0x00010000,0x00000004)):\n",
    "    data = a ** 2\n",
    "    robi.write_r_obi(data, b, 0x00010000)"
   ]
  },
  {
   "cell_type": "code",
   "execution_count": null,
   "id": "45f6330e",
   "metadata": {},
   "outputs": [],
   "source": [
    "# Read the memory bank and compare\n",
    "allMatch = True\n",
    "for a,b in enumerate(range(0,0x00008000,0x00000004)):\n",
    "    data_read = robi.read_r_obi(b, 0x00008000)\n",
    "    if data_read != a**2:\n",
    "        allMatch = False\n",
    "        break\n",
    "\n",
    "if allMatch:\n",
    "    print(\"Test Passed!\")\n",
    "else:\n",
    "    print(\"Test Failed!\")"
   ]
  }
 ],
 "metadata": {
  "kernelspec": {
   "display_name": "Python 3 (ipykernel)",
   "language": "python",
   "name": "python3"
  },
  "language_info": {
   "codemirror_mode": {
    "name": "ipython",
    "version": 3
   },
   "file_extension": ".py",
   "mimetype": "text/x-python",
   "name": "python",
   "nbconvert_exporter": "python",
   "pygments_lexer": "ipython3",
   "version": "3.10.4"
  }
 },
 "nbformat": 4,
 "nbformat_minor": 5
}
