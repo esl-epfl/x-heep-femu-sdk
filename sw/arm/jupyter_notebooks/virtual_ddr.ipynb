{
 "cells": [
  {
   "cell_type": "code",
   "execution_count": null,
   "id": "63f1eaa7",
   "metadata": {},
   "outputs": [],
   "source": [
    "# Import the X-HEEP Python class\n",
    "from pynq import x_heep\n",
    "from x_heep_ddr import *"
   ]
  },
  {
   "cell_type": "code",
   "execution_count": null,
   "id": "2d224b64",
   "metadata": {},
   "outputs": [],
   "source": [
    "# Load the X-HEEP bitstream\n",
    "x_heep = x_heep()"
   ]
  },
  {
   "cell_type": "code",
   "execution_count": null,
   "id": "3517885b",
   "metadata": {},
   "outputs": [],
   "source": [
    "# Initialize DDR memory with desired MB size\n",
    "ddr = DDR(x_heep, 10)"
   ]
  },
  {
   "cell_type": "code",
   "execution_count": null,
   "id": "d6af7d95",
   "metadata": {},
   "outputs": [],
   "source": [
    "# Compile the application\n",
    "x_heep.compile_app(\"virtual_ddr\")"
   ]
  },
  {
   "cell_type": "code",
   "execution_count": null,
   "id": "fd8e74c7",
   "metadata": {},
   "outputs": [],
   "source": [
    "# Run the application\n",
    "x_heep.run_app()"
   ]
  },
  {
   "cell_type": "code",
   "execution_count": null,
   "id": "0ebd3fb2",
   "metadata": {},
   "outputs": [],
   "source": [
    "# Read the DDR memory\n",
    "ddr_read = ddr.read_ddr_mem()"
   ]
  },
  {
   "cell_type": "code",
   "execution_count": null,
   "id": "40aa32c4",
   "metadata": {},
   "outputs": [],
   "source": [
    "# Compare program outputs\n",
    "expected = int(0xABABABAB)\n",
    "test_passed = True\n",
    "for a in range(4096):\n",
    "    if ddr_read[a] != expected:\n",
    "        test_passed = False\n",
    "        break\n",
    "\n",
    "if test_passed:\n",
    "    print(\"Test Passed!\")\n",
    "else:\n",
    "    print(\"Test Failed!\")"
   ]
  },
  {
   "cell_type": "code",
   "execution_count": null,
   "id": "efee5203",
   "metadata": {},
   "outputs": [],
   "source": [
    "# Release the allocated DDR memory\n",
    "ddr.release_ddr_mem()"
   ]
  }
 ],
 "metadata": {
  "kernelspec": {
   "display_name": "Python 3 (ipykernel)",
   "language": "python",
   "name": "python3"
  },
  "language_info": {
   "codemirror_mode": {
    "name": "ipython",
    "version": 3
   },
   "file_extension": ".py",
   "mimetype": "text/x-python",
   "name": "python",
   "nbconvert_exporter": "python",
   "pygments_lexer": "ipython3",
   "version": "3.10.4"
  }
 },
 "nbformat": 4,
 "nbformat_minor": 5
}
